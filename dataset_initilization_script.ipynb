{
 "cells": [
  {
   "cell_type": "code",
   "execution_count": 1,
   "metadata": {},
   "outputs": [],
   "source": [
    "import sqlite3\n",
    "import pandas as pd\n",
    "import numpy"
   ]
  },
  {
   "cell_type": "code",
   "execution_count": 36,
   "metadata": {},
   "outputs": [
    {
     "data": {
      "text/plain": [
       "<sqlite3.Cursor at 0xfcc4500>"
      ]
     },
     "execution_count": 36,
     "metadata": {},
     "output_type": "execute_result"
    }
   ],
   "source": [
    "#Подключаем SQL базу данных\n",
    "conn_db = sqlite3.connect(\"bd/main_bd.sqlite\", timeout=10)\n",
    "c = conn_db.cursor()\n",
    "c.execute(\"PRAGMA foreign_keys = ON;\")"
   ]
  },
  {
   "cell_type": "code",
   "execution_count": 3,
   "metadata": {},
   "outputs": [],
   "source": [
    "#ПЕСНИ\n",
    "mainsongs = pd.read_csv((\"rootDataset/songs.csv\"), sep=';')\n",
    "#Удаляем дубликаты\n",
    "mainsongs = mainsongs.drop_duplicates(keep='first', ignore_index=True)\n"
   ]
  },
  {
   "cell_type": "code",
   "execution_count": 20,
   "metadata": {},
   "outputs": [],
   "source": [
    "\n",
    "#Реестр всех жанров\n",
    "GENRES_REG = set(mainsongs[\"genre_name\"])\n",
    "#reestr = open(\"bd/genresReg.txt\", \"w\")\n",
    "#reestr.write((\",\").join(GENRES_REG))\n",
    "#reestr.close()"
   ]
  },
  {
   "cell_type": "code",
   "execution_count": 4,
   "metadata": {},
   "outputs": [],
   "source": [
    "#ДИФФЕРЕНЦИРУЕМ ТАБЛИЦЫ\n",
    "#ПЕСНИ\n",
    "songs = mainsongs[['spotify_id','name', 'artist']].drop_duplicates(subset=['spotify_id'], keep='first', ignore_index=True)\n",
    "songs.insert(0,\"songId\", songs.index)"
   ]
  },
  {
   "cell_type": "code",
   "execution_count": 5,
   "metadata": {},
   "outputs": [],
   "source": [
    "#ЖАНРЫ\n",
    "\"\"\"\n",
    "#SZIP = zip(songs['songid'],songs['name'],songs['artist'])\n",
    "def firstlocsongs(name, artist):\n",
    "    for i in zip(songs['songid'],songs['name'],songs['artist']):\n",
    "        if i[1] == name and i[2] == artist:\n",
    "            #print(\"yes\")\n",
    "            return i[0]\n",
    "indexs = []#[-1] * len(mainsongs)\n",
    "#allind = list(mainsongs.index)\n",
    "genres = mainsongs.iloc[:,1:]\n",
    "#genres['songid'] = [firstlocsongs(i[0],i[1]) for i in zip(mainsongs['name'], mainsongs['artist'])]\n",
    "for i in zip(mainsongs['name'], mainsongs['artist']):\n",
    "    res = firstlocsongs(i[0],i[1])\n",
    "    #if res == -1: res = indexs[-1]\n",
    "    indexs.append(res)\n",
    "    print(res)\n",
    "    #print(firstlocsongs(i[0],i[1]))\n",
    "\"\"\"\n",
    "indexs = []#[-1] * len(mainsongs)\n",
    "j = 0\n",
    "l = len(mainsongs)\n",
    "for i in zip(songs['songId'],songs['spotify_id']):\n",
    "    while j < l and mainsongs.loc[j]['spotify_id'] == i[1]:\n",
    "        indexs.append(i[0])\n",
    "        j += 1"
   ]
  },
  {
   "cell_type": "code",
   "execution_count": 14,
   "metadata": {},
   "outputs": [],
   "source": [
    "songs = songs.drop(columns=[\"spotify_id\"])"
   ]
  },
  {
   "cell_type": "code",
   "execution_count": 12,
   "metadata": {},
   "outputs": [
    {
     "name": "stdout",
     "output_type": "stream",
     "text": [
      "    songid  position               genre_name\n",
      "0        0       195               vapor soul\n",
      "1        1       111                dixieland\n",
      "2        2       175       swedish indie rock\n",
      "3        3        47  sertanejo universitario\n",
      "4        4         5              faroese pop\n",
      "5        5       119                steampunk\n",
      "6        6       142               slash punk\n",
      "7        7       169             electroclash\n",
      "8        8       176               slovak pop\n",
      "9        9       124            southern rock\n",
      "10       9         1     modern southern rock\n"
     ]
    }
   ],
   "source": [
    "#ЖАНРЫ\n",
    "genres = mainsongs[['position','genre_name']]\n",
    "genres.insert(0,\"songId\",indexs)"
   ]
  },
  {
   "cell_type": "code",
   "execution_count": 25,
   "metadata": {},
   "outputs": [],
   "source": [
    "#Создаем и заполняем таблицу songs\n",
    "c.execute(\n",
    "    \"\"\"\n",
    "    DROP TABLE IF EXISTS songs;\n",
    "    \"\"\"\n",
    "    )\n",
    "c.execute(\n",
    "    \"\"\"\n",
    "    CREATE TABLE IF NOT EXISTS songs(\n",
    "        songId INTEGER PRIMARY KEY AUTOINCREMENT,\n",
    "        name TEXT NOT NULL,\n",
    "        artist TEXT NOT NULL\n",
    "        );\n",
    "    \"\"\"\n",
    "    )\n",
    "songs.to_sql('songs', conn_db, if_exists='append', index=False)\n",
    "conn_db.commit()"
   ]
  },
  {
   "cell_type": "code",
   "execution_count": 26,
   "metadata": {},
   "outputs": [],
   "source": [
    "#ПЕСНИ И ЖАНРЫ\n",
    "c.execute(\n",
    "    \"\"\"\n",
    "    DROP TABLE IF EXISTS genres;\n",
    "    \"\"\"\n",
    "    )\n",
    "c.execute(\n",
    "    \"\"\"\n",
    "    CREATE TABLE IF NOT EXISTS genres(\n",
    "        songId INT NOT NULL,\n",
    "        position INT NOT NULL,\n",
    "        genre_name TEXT NOT NULL,\n",
    "        PRIMARY KEY(songId, genre_name),\n",
    "        FOREIGN KEY(songId) REFERENCES songs(songId) ON DELETE CASCADE ON UPDATE CASCADE\n",
    "        );\n",
    "    \"\"\"\n",
    "    )\n",
    "genres.to_sql('genres', conn_db, if_exists='append', index=False)\n",
    "conn_db.commit()\n"
   ]
  },
  {
   "cell_type": "code",
   "execution_count": 22,
   "metadata": {},
   "outputs": [],
   "source": [
    "#ПОЛЬЗОВАТЕЛИ \n",
    "#Создаем SQL таблицу пользователей\n",
    "c.execute(\n",
    "    \"\"\"\n",
    "    DROP TABLE IF EXISTS users;\n",
    "    \"\"\"\n",
    "    )\n",
    "c.execute(\n",
    "    \"\"\"\n",
    "    CREATE TABLE IF NOT EXISTS users(\n",
    "        userId INTEGER PRIMARY KEY AUTOINCREMENT,\n",
    "        username TEXT NULL UNIQUE,\n",
    "        password TEXT NULL\n",
    "        );\n",
    "    \"\"\"\n",
    "    )\n",
    "conn_db.commit()"
   ]
  },
  {
   "cell_type": "code",
   "execution_count": 23,
   "metadata": {},
   "outputs": [],
   "source": [
    "#АДМИНИСТРАТОРЫ\n",
    "c.execute(\n",
    "    \"\"\"\n",
    "    DROP TABLE IF EXISTS admins;\n",
    "    \"\"\"\n",
    "    )\n",
    "c.execute(\n",
    "    \"\"\"\n",
    "    CREATE TABLE IF NOT EXISTS admins(\n",
    "        userId INT NOT NULL,\n",
    "        PRIMARY KEY(userId),\n",
    "        FOREIGN KEY(userId) REFERENCES users(userId) ON DELETE CASCADE ON UPDATE CASCADE\n",
    "        );\n",
    "    \"\"\"\n",
    "    )\n",
    "conn_db.commit()"
   ]
  },
  {
   "cell_type": "code",
   "execution_count": 27,
   "metadata": {},
   "outputs": [],
   "source": [
    "#ТАБЛИЦА С ИЗБРАННЫМИ ФИЛЬМАМИ ПОЛЬЗОВАТЕЛЕЙ\n",
    "c.execute(\n",
    "    \"\"\"\n",
    "    DROP TABLE IF EXISTS users_favorites;\n",
    "    \"\"\"\n",
    "    )\n",
    "c.execute(\n",
    "    \"\"\"\n",
    "    CREATE TABLE IF NOT EXISTS users_favorites(\n",
    "        userId INT NOT NULL,\n",
    "        songId INT NOT NULL,\n",
    "        PRIMARY KEY(userId,songId),\n",
    "        FOREIGN KEY(userId) REFERENCES users(userId) ON DELETE CASCADE ON UPDATE CASCADE,\n",
    "        FOREIGN KEY(songId) REFERENCES songs(songId) ON DELETE CASCADE ON UPDATE CASCADE\n",
    "        );\n",
    "    \"\"\"\n",
    "    )\n",
    "conn_db.commit()"
   ]
  },
  {
   "cell_type": "code",
   "execution_count": 32,
   "metadata": {},
   "outputs": [],
   "source": [
    "#ОТОБРАЖЕНИЕ ПЕСЕН: НАЗВАНИЕ, АВТОР, ЖАНРЫ\n",
    "c.execute(\n",
    "    \"\"\"\n",
    "    DROP VIEW IF EXISTS songs_info;\n",
    "    \"\"\"\n",
    ")\n",
    "c.execute(\n",
    "    \"\"\"\n",
    "    CREATE VIEW songs_info AS \n",
    "    SELECT s.songId AS songId, name, artist, GROUP_CONCAT(genre_name,',') AS genres \n",
    "    FROM songs s\n",
    "    INNER JOIN genres gen ON s.songId = gen.songId\n",
    "    GROUP BY s.songId\n",
    "    \"\"\"\n",
    ")\n",
    "conn_db.commit()"
   ]
  },
  {
   "cell_type": "code",
   "execution_count": 33,
   "metadata": {},
   "outputs": [],
   "source": [
    "#ТРИГГЕР НА users НА INSERT\n",
    "c.execute(\n",
    "    \"\"\"\n",
    "    CREATE TRIGGER unique_username BEFORE INSERT ON users\n",
    "    WHEN EXISTS (SELECT * FROM users WHERE LOWER(username) = LOWER(NEW.username))\n",
    "    BEGIN\n",
    "        SELECT RAISE(ABORT, 'Unique username');\n",
    "    END;\n",
    "    \"\"\"\n",
    ")\n",
    "conn_db.commit()"
   ]
  },
  {
   "cell_type": "code",
   "execution_count": 39,
   "metadata": {},
   "outputs": [],
   "source": [
    "#ОТОБРАЖЕНИЯ КОЛИЧЕСТВА ПЕСЕН В КАЖДОМ ЖАНРЕ\n",
    "c.execute(\n",
    "    \"\"\"\n",
    "    DROP VIEW IF EXISTS genres_count;\n",
    "    \"\"\"\n",
    ")\n",
    "c.execute(\n",
    "    \"\"\"\n",
    "    CREATE VIEW genres_count AS\n",
    "    SELECT genre_name, MAX(position) as position\n",
    "    FROM genres\n",
    "    GROUP BY genre_name\n",
    "    \"\"\"\n",
    ")\n",
    "conn_db.commit()"
   ]
  },
  {
   "cell_type": "code",
   "execution_count": 40,
   "metadata": {},
   "outputs": [],
   "source": [
    "conn_db.commit()\n",
    "conn_db.close()"
   ]
  }
 ],
 "metadata": {
  "interpreter": {
   "hash": "c731eb2f20897c16c8f0a0543e09f7b45a779822075faf775d9a095afbe746bc"
  },
  "kernelspec": {
   "display_name": "Python 3.8.6 64-bit (system)",
   "language": "python",
   "name": "python3"
  },
  "language_info": {
   "codemirror_mode": {
    "name": "ipython",
    "version": 3
   },
   "file_extension": ".py",
   "mimetype": "text/x-python",
   "name": "python",
   "nbconvert_exporter": "python",
   "pygments_lexer": "ipython3",
   "version": "3.8.6"
  },
  "orig_nbformat": 4
 },
 "nbformat": 4,
 "nbformat_minor": 2
}
